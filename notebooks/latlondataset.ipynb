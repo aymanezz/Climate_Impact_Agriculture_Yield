{
 "cells": [
  {
   "cell_type": "code",
   "execution_count": 1,
   "id": "09bad5de-f3b8-4181-84dd-d084fa2f4e01",
   "metadata": {},
   "outputs": [],
   "source": [
    "import pandas as pd"
   ]
  },
  {
   "cell_type": "code",
   "execution_count": 14,
   "id": "a5e7db03-591e-4177-9d9c-223796e086e4",
   "metadata": {},
   "outputs": [],
   "source": [
    "df_coord = pd.read_csv(\"coordinates.csv\")"
   ]
  },
  {
   "cell_type": "code",
   "execution_count": 15,
   "id": "a5e78f79-b901-4d1e-82f6-7bbf88558326",
   "metadata": {},
   "outputs": [],
   "source": [
    "def str_to_tuple(s):\n",
    "    return tuple(map(float, s.strip('()').split(',')))\n",
    "\n",
    "# Apply the function to 'lat' and 'lon' columns\n",
    "df_coord['lat'] = df_coord['lat'].apply(str_to_tuple)\n",
    "df_coord['lon'] = df_coord['lon'].apply(str_to_tuple)"
   ]
  },
  {
   "cell_type": "code",
   "execution_count": 16,
   "id": "fbad6d41-59ff-4722-9558-11e6b1a68d25",
   "metadata": {},
   "outputs": [],
   "source": [
    "def get_country_name(lat, lon):\n",
    "    for index, row in df_coord.iterrows():\n",
    "        lat_range = row['lat']\n",
    "        lon_range = row['lon']\n",
    "        if lat_range[0] <= lat <= lat_range[1] and lon_range[0] <= lon <= lon_range[1]:\n",
    "            return row['Area']\n",
    "    return \"NaN\"  # Return a default value if no country matches\n",
    "\n"
   ]
  },
  {
   "cell_type": "code",
   "execution_count": 17,
   "id": "ce6360c5-9ba4-4eea-ba24-64ee96741a28",
   "metadata": {},
   "outputs": [
    {
     "name": "stdout",
     "output_type": "stream",
     "text": [
      "Country for coordinates (40, 20): Albania\n"
     ]
    }
   ],
   "source": [
    "# Example usage\n",
    "lat = 40\n",
    "lon = 20\n",
    "country = get_country_name(lat, lon)\n",
    "print(f\"Country for coordinates ({lat}, {lon}): {country}\")"
   ]
  },
  {
   "cell_type": "code",
   "execution_count": 18,
   "id": "2c83546c-43dd-4e1b-ad29-1cd0c7d2ea6b",
   "metadata": {},
   "outputs": [],
   "source": [
    "df_test = pd.read_csv('yearlyprecipdataset.csv')\n"
   ]
  },
  {
   "cell_type": "code",
   "execution_count": 19,
   "id": "69e051c6-72dc-45e3-9999-baa64adf06dd",
   "metadata": {},
   "outputs": [
    {
     "data": {
      "text/html": [
       "<div>\n",
       "<style scoped>\n",
       "    .dataframe tbody tr th:only-of-type {\n",
       "        vertical-align: middle;\n",
       "    }\n",
       "\n",
       "    .dataframe tbody tr th {\n",
       "        vertical-align: top;\n",
       "    }\n",
       "\n",
       "    .dataframe thead th {\n",
       "        text-align: right;\n",
       "    }\n",
       "</style>\n",
       "<table border=\"1\" class=\"dataframe\">\n",
       "  <thead>\n",
       "    <tr style=\"text-align: right;\">\n",
       "      <th></th>\n",
       "      <th>year</th>\n",
       "      <th>lat</th>\n",
       "      <th>lon</th>\n",
       "      <th>precip</th>\n",
       "    </tr>\n",
       "  </thead>\n",
       "  <tbody>\n",
       "    <tr>\n",
       "      <th>0</th>\n",
       "      <td>1979</td>\n",
       "      <td>-88.75</td>\n",
       "      <td>1.25</td>\n",
       "      <td>0.358453</td>\n",
       "    </tr>\n",
       "    <tr>\n",
       "      <th>1</th>\n",
       "      <td>1979</td>\n",
       "      <td>-88.75</td>\n",
       "      <td>3.75</td>\n",
       "      <td>0.351281</td>\n",
       "    </tr>\n",
       "    <tr>\n",
       "      <th>2</th>\n",
       "      <td>1979</td>\n",
       "      <td>-88.75</td>\n",
       "      <td>6.25</td>\n",
       "      <td>0.343447</td>\n",
       "    </tr>\n",
       "    <tr>\n",
       "      <th>3</th>\n",
       "      <td>1979</td>\n",
       "      <td>-88.75</td>\n",
       "      <td>8.75</td>\n",
       "      <td>0.320538</td>\n",
       "    </tr>\n",
       "    <tr>\n",
       "      <th>4</th>\n",
       "      <td>1979</td>\n",
       "      <td>-88.75</td>\n",
       "      <td>11.25</td>\n",
       "      <td>0.325240</td>\n",
       "    </tr>\n",
       "  </tbody>\n",
       "</table>\n",
       "</div>"
      ],
      "text/plain": [
       "   year    lat    lon    precip\n",
       "0  1979 -88.75   1.25  0.358453\n",
       "1  1979 -88.75   3.75  0.351281\n",
       "2  1979 -88.75   6.25  0.343447\n",
       "3  1979 -88.75   8.75  0.320538\n",
       "4  1979 -88.75  11.25  0.325240"
      ]
     },
     "execution_count": 19,
     "metadata": {},
     "output_type": "execute_result"
    }
   ],
   "source": [
    "df_test.head() "
   ]
  },
  {
   "cell_type": "code",
   "execution_count": 30,
   "id": "585dfd96-dd9d-4586-8de2-d9802fcfbf76",
   "metadata": {},
   "outputs": [],
   "source": [
    "df_test1 = df_test[0:20000]"
   ]
  },
  {
   "cell_type": "code",
   "execution_count": 34,
   "id": "21284249-97bf-4500-b1ca-a29e1271df58",
   "metadata": {},
   "outputs": [],
   "source": [
    "df_test2 = df_test[20000:40000]"
   ]
  },
  {
   "cell_type": "code",
   "execution_count": 36,
   "id": "ffbf5536-9db3-4ed7-ad6a-89ee1c915f85",
   "metadata": {},
   "outputs": [],
   "source": [
    "df_test3 = df_test[40000:60000]"
   ]
  },
  {
   "cell_type": "code",
   "execution_count": 37,
   "id": "0cb10e06-d16f-4871-aa56-27541c0db27d",
   "metadata": {},
   "outputs": [],
   "source": [
    "df_test4 = df_test[60000:80000]"
   ]
  },
  {
   "cell_type": "code",
   "execution_count": 38,
   "id": "13b8f5dd-2a82-4a18-bb11-758c68dda504",
   "metadata": {},
   "outputs": [],
   "source": [
    "df_test5 = df_test[80000:100000]"
   ]
  },
  {
   "cell_type": "code",
   "execution_count": 42,
   "id": "a9e14d8f-15e8-4711-9bf1-45be3fa6d788",
   "metadata": {},
   "outputs": [],
   "source": [
    "df_test6 = df_test[100000:120000]"
   ]
  },
  {
   "cell_type": "code",
   "execution_count": 43,
   "id": "57df5b8f-b330-4603-94ca-f60daaf53d8a",
   "metadata": {},
   "outputs": [],
   "source": [
    "df_test7 = df_test[120000:140000]"
   ]
  },
  {
   "cell_type": "code",
   "execution_count": 44,
   "id": "166e1acf-90d1-4f5e-b410-3df765393f4c",
   "metadata": {},
   "outputs": [],
   "source": [
    "df_test8 = df_test[140000:160000]"
   ]
  },
  {
   "cell_type": "code",
   "execution_count": 45,
   "id": "0e28f351-a162-4d7a-bb50-90dd2bdb1840",
   "metadata": {},
   "outputs": [],
   "source": [
    "df_test9 = df_test[160000:180000]"
   ]
  },
  {
   "cell_type": "code",
   "execution_count": 46,
   "id": "572e387a-9b7c-4b6e-88f8-ec51423b241c",
   "metadata": {},
   "outputs": [],
   "source": [
    "df_test10 = df_test[180000:200000]"
   ]
  },
  {
   "cell_type": "code",
   "execution_count": 58,
   "id": "585dd09b-1cb3-43d4-b447-c24516742824",
   "metadata": {},
   "outputs": [],
   "source": [
    "df_test11 = df_test[200000:220000]"
   ]
  },
  {
   "cell_type": "code",
   "execution_count": 59,
   "id": "0fad9aec-71a8-4706-bc1d-a6eba3dd88e8",
   "metadata": {},
   "outputs": [],
   "source": [
    "df_test12 = df_test[220000:240000]"
   ]
  },
  {
   "cell_type": "code",
   "execution_count": 60,
   "id": "fe26af46-d1b2-43f4-98c3-4eb034f8d6ff",
   "metadata": {},
   "outputs": [],
   "source": [
    "df_test13 = df_test[240000:260000]"
   ]
  },
  {
   "cell_type": "code",
   "execution_count": 61,
   "id": "c1159a5f-c002-4313-90ef-397c2b3c63e1",
   "metadata": {},
   "outputs": [],
   "source": [
    "df_test14 = df_test[260000:280000]"
   ]
  },
  {
   "cell_type": "code",
   "execution_count": 62,
   "id": "bebe35a3-3de4-4747-bfb7-9843f65b28f3",
   "metadata": {},
   "outputs": [],
   "source": [
    "df_test15 = df_test[260000:300000]"
   ]
  },
  {
   "cell_type": "code",
   "execution_count": 31,
   "id": "ac75caff-8a77-4669-a63c-dcc8b6bac9bb",
   "metadata": {},
   "outputs": [
    {
     "name": "stderr",
     "output_type": "stream",
     "text": [
      "C:\\Users\\Ayman\\AppData\\Local\\Temp\\ipykernel_1432\\3793521658.py:1: SettingWithCopyWarning: \n",
      "A value is trying to be set on a copy of a slice from a DataFrame.\n",
      "Try using .loc[row_indexer,col_indexer] = value instead\n",
      "\n",
      "See the caveats in the documentation: https://pandas.pydata.org/pandas-docs/stable/user_guide/indexing.html#returning-a-view-versus-a-copy\n",
      "  df_test1['Area2'] = df_test1.apply(lambda row: get_country_name(row['lat'], row['lon']), axis=1)\n"
     ]
    }
   ],
   "source": [
    "\n",
    "df_test1['Area2'] = df_test1.apply(lambda row: get_country_name(row['lat'], row['lon']), axis=1)\n",
    "\n"
   ]
  },
  {
   "cell_type": "code",
   "execution_count": 35,
   "id": "11007df7-17d7-4e34-8d30-9c339ca007a4",
   "metadata": {},
   "outputs": [
    {
     "name": "stderr",
     "output_type": "stream",
     "text": [
      "C:\\Users\\Ayman\\AppData\\Local\\Temp\\ipykernel_1432\\1366262208.py:1: SettingWithCopyWarning: \n",
      "A value is trying to be set on a copy of a slice from a DataFrame.\n",
      "Try using .loc[row_indexer,col_indexer] = value instead\n",
      "\n",
      "See the caveats in the documentation: https://pandas.pydata.org/pandas-docs/stable/user_guide/indexing.html#returning-a-view-versus-a-copy\n",
      "  df_test2['Area2'] = df_test2.apply(lambda row: get_country_name(row['lat'], row['lon']), axis=1)\n"
     ]
    }
   ],
   "source": [
    "df_test2['Area2'] = df_test2.apply(lambda row: get_country_name(row['lat'], row['lon']), axis=1)"
   ]
  },
  {
   "cell_type": "code",
   "execution_count": 40,
   "id": "6dd33cfa-6823-4333-a908-7fd4eb557f92",
   "metadata": {},
   "outputs": [
    {
     "name": "stderr",
     "output_type": "stream",
     "text": [
      "C:\\Users\\Ayman\\AppData\\Local\\Temp\\ipykernel_1432\\105168791.py:1: SettingWithCopyWarning: \n",
      "A value is trying to be set on a copy of a slice from a DataFrame.\n",
      "Try using .loc[row_indexer,col_indexer] = value instead\n",
      "\n",
      "See the caveats in the documentation: https://pandas.pydata.org/pandas-docs/stable/user_guide/indexing.html#returning-a-view-versus-a-copy\n",
      "  df_test3['Area2'] = df_test3.apply(lambda row: get_country_name(row['lat'], row['lon']), axis=1)\n"
     ]
    }
   ],
   "source": [
    "df_test3['Area2'] = df_test3.apply(lambda row: get_country_name(row['lat'], row['lon']), axis=1)"
   ]
  },
  {
   "cell_type": "code",
   "execution_count": 41,
   "id": "3e454b3f-c6c8-4a08-988e-9654851218fb",
   "metadata": {},
   "outputs": [
    {
     "name": "stderr",
     "output_type": "stream",
     "text": [
      "C:\\Users\\Ayman\\AppData\\Local\\Temp\\ipykernel_1432\\4274391770.py:1: SettingWithCopyWarning: \n",
      "A value is trying to be set on a copy of a slice from a DataFrame.\n",
      "Try using .loc[row_indexer,col_indexer] = value instead\n",
      "\n",
      "See the caveats in the documentation: https://pandas.pydata.org/pandas-docs/stable/user_guide/indexing.html#returning-a-view-versus-a-copy\n",
      "  df_test4['Area2'] = df_test4.apply(lambda row: get_country_name(row['lat'], row['lon']), axis=1)\n"
     ]
    }
   ],
   "source": [
    "df_test4['Area2'] = df_test4.apply(lambda row: get_country_name(row['lat'], row['lon']), axis=1)"
   ]
  },
  {
   "cell_type": "code",
   "execution_count": 39,
   "id": "98fd44b9-c72f-4e7a-a3ee-803c1b3787e7",
   "metadata": {},
   "outputs": [
    {
     "name": "stderr",
     "output_type": "stream",
     "text": [
      "C:\\Users\\Ayman\\AppData\\Local\\Temp\\ipykernel_1432\\159642829.py:1: SettingWithCopyWarning: \n",
      "A value is trying to be set on a copy of a slice from a DataFrame.\n",
      "Try using .loc[row_indexer,col_indexer] = value instead\n",
      "\n",
      "See the caveats in the documentation: https://pandas.pydata.org/pandas-docs/stable/user_guide/indexing.html#returning-a-view-versus-a-copy\n",
      "  df_test5['Area2'] = df_test5.apply(lambda row: get_country_name(row['lat'], row['lon']), axis=1)\n"
     ]
    }
   ],
   "source": [
    "df_test5['Area2'] = df_test5.apply(lambda row: get_country_name(row['lat'], row['lon']), axis=1)"
   ]
  },
  {
   "cell_type": "code",
   "execution_count": 47,
   "id": "62c024f5-95a0-4b84-b882-4eec4d2ba6b1",
   "metadata": {},
   "outputs": [
    {
     "name": "stderr",
     "output_type": "stream",
     "text": [
      "C:\\Users\\Ayman\\AppData\\Local\\Temp\\ipykernel_1432\\1187591802.py:1: SettingWithCopyWarning: \n",
      "A value is trying to be set on a copy of a slice from a DataFrame.\n",
      "Try using .loc[row_indexer,col_indexer] = value instead\n",
      "\n",
      "See the caveats in the documentation: https://pandas.pydata.org/pandas-docs/stable/user_guide/indexing.html#returning-a-view-versus-a-copy\n",
      "  df_test6['Area2'] = df_test6.apply(lambda row: get_country_name(row['lat'], row['lon']), axis=1)\n"
     ]
    }
   ],
   "source": [
    "df_test6['Area2'] = df_test6.apply(lambda row: get_country_name(row['lat'], row['lon']), axis=1)"
   ]
  },
  {
   "cell_type": "code",
   "execution_count": 48,
   "id": "37514ea0-c109-4fb4-a220-62d0fd273202",
   "metadata": {},
   "outputs": [
    {
     "name": "stderr",
     "output_type": "stream",
     "text": [
      "C:\\Users\\Ayman\\AppData\\Local\\Temp\\ipykernel_1432\\2851441374.py:1: SettingWithCopyWarning: \n",
      "A value is trying to be set on a copy of a slice from a DataFrame.\n",
      "Try using .loc[row_indexer,col_indexer] = value instead\n",
      "\n",
      "See the caveats in the documentation: https://pandas.pydata.org/pandas-docs/stable/user_guide/indexing.html#returning-a-view-versus-a-copy\n",
      "  df_test7['Area2'] = df_test7.apply(lambda row: get_country_name(row['lat'], row['lon']), axis=1)\n"
     ]
    }
   ],
   "source": [
    "df_test7['Area2'] = df_test7.apply(lambda row: get_country_name(row['lat'], row['lon']), axis=1)"
   ]
  },
  {
   "cell_type": "code",
   "execution_count": 49,
   "id": "401790b6-4cdc-4339-a054-f5f0af7c0522",
   "metadata": {},
   "outputs": [
    {
     "name": "stderr",
     "output_type": "stream",
     "text": [
      "C:\\Users\\Ayman\\AppData\\Local\\Temp\\ipykernel_1432\\3320290675.py:1: SettingWithCopyWarning: \n",
      "A value is trying to be set on a copy of a slice from a DataFrame.\n",
      "Try using .loc[row_indexer,col_indexer] = value instead\n",
      "\n",
      "See the caveats in the documentation: https://pandas.pydata.org/pandas-docs/stable/user_guide/indexing.html#returning-a-view-versus-a-copy\n",
      "  df_test8['Area2'] = df_test8.apply(lambda row: get_country_name(row['lat'], row['lon']), axis=1)\n"
     ]
    }
   ],
   "source": [
    "df_test8['Area2'] = df_test8.apply(lambda row: get_country_name(row['lat'], row['lon']), axis=1)"
   ]
  },
  {
   "cell_type": "code",
   "execution_count": 50,
   "id": "ba763c56-5a62-46ef-b0d3-38938936c592",
   "metadata": {},
   "outputs": [
    {
     "name": "stderr",
     "output_type": "stream",
     "text": [
      "C:\\Users\\Ayman\\AppData\\Local\\Temp\\ipykernel_1432\\3118900893.py:1: SettingWithCopyWarning: \n",
      "A value is trying to be set on a copy of a slice from a DataFrame.\n",
      "Try using .loc[row_indexer,col_indexer] = value instead\n",
      "\n",
      "See the caveats in the documentation: https://pandas.pydata.org/pandas-docs/stable/user_guide/indexing.html#returning-a-view-versus-a-copy\n",
      "  df_test9['Area2'] = df_test9.apply(lambda row: get_country_name(row['lat'], row['lon']), axis=1)\n"
     ]
    }
   ],
   "source": [
    "df_test9['Area2'] = df_test9.apply(lambda row: get_country_name(row['lat'], row['lon']), axis=1)"
   ]
  },
  {
   "cell_type": "code",
   "execution_count": 51,
   "id": "dbf8ad28-5e56-49b5-97ef-c9578b2f019e",
   "metadata": {},
   "outputs": [
    {
     "name": "stderr",
     "output_type": "stream",
     "text": [
      "C:\\Users\\Ayman\\AppData\\Local\\Temp\\ipykernel_1432\\234049989.py:1: SettingWithCopyWarning: \n",
      "A value is trying to be set on a copy of a slice from a DataFrame.\n",
      "Try using .loc[row_indexer,col_indexer] = value instead\n",
      "\n",
      "See the caveats in the documentation: https://pandas.pydata.org/pandas-docs/stable/user_guide/indexing.html#returning-a-view-versus-a-copy\n",
      "  df_test10['Area2'] = df_test10.apply(lambda row: get_country_name(row['lat'], row['lon']), axis=1)\n"
     ]
    }
   ],
   "source": [
    "df_test10['Area2'] = df_test10.apply(lambda row: get_country_name(row['lat'], row['lon']), axis=1)"
   ]
  },
  {
   "cell_type": "code",
   "execution_count": 63,
   "id": "1befbca7-4277-49e1-874e-da399c2664bd",
   "metadata": {},
   "outputs": [
    {
     "name": "stderr",
     "output_type": "stream",
     "text": [
      "C:\\Users\\Ayman\\AppData\\Local\\Temp\\ipykernel_1432\\2939669654.py:1: SettingWithCopyWarning: \n",
      "A value is trying to be set on a copy of a slice from a DataFrame.\n",
      "Try using .loc[row_indexer,col_indexer] = value instead\n",
      "\n",
      "See the caveats in the documentation: https://pandas.pydata.org/pandas-docs/stable/user_guide/indexing.html#returning-a-view-versus-a-copy\n",
      "  df_test11['Area2'] = df_test11.apply(lambda row: get_country_name(row['lat'], row['lon']), axis=1)\n"
     ]
    }
   ],
   "source": [
    "df_test11['Area2'] = df_test11.apply(lambda row: get_country_name(row['lat'], row['lon']), axis=1)"
   ]
  },
  {
   "cell_type": "code",
   "execution_count": 64,
   "id": "0a824f7b-3490-4350-a5dd-9f530f93dc83",
   "metadata": {},
   "outputs": [
    {
     "name": "stderr",
     "output_type": "stream",
     "text": [
      "C:\\Users\\Ayman\\AppData\\Local\\Temp\\ipykernel_1432\\1668004094.py:1: SettingWithCopyWarning: \n",
      "A value is trying to be set on a copy of a slice from a DataFrame.\n",
      "Try using .loc[row_indexer,col_indexer] = value instead\n",
      "\n",
      "See the caveats in the documentation: https://pandas.pydata.org/pandas-docs/stable/user_guide/indexing.html#returning-a-view-versus-a-copy\n",
      "  df_test12['Area2'] = df_test12.apply(lambda row: get_country_name(row['lat'], row['lon']), axis=1)\n"
     ]
    }
   ],
   "source": [
    "df_test12['Area2'] = df_test12.apply(lambda row: get_country_name(row['lat'], row['lon']), axis=1)"
   ]
  },
  {
   "cell_type": "code",
   "execution_count": 65,
   "id": "c72726ea-ede8-4a97-b531-258614f19862",
   "metadata": {},
   "outputs": [
    {
     "name": "stderr",
     "output_type": "stream",
     "text": [
      "C:\\Users\\Ayman\\AppData\\Local\\Temp\\ipykernel_1432\\80995341.py:1: SettingWithCopyWarning: \n",
      "A value is trying to be set on a copy of a slice from a DataFrame.\n",
      "Try using .loc[row_indexer,col_indexer] = value instead\n",
      "\n",
      "See the caveats in the documentation: https://pandas.pydata.org/pandas-docs/stable/user_guide/indexing.html#returning-a-view-versus-a-copy\n",
      "  df_test13['Area2'] = df_test13.apply(lambda row: get_country_name(row['lat'], row['lon']), axis=1)\n"
     ]
    }
   ],
   "source": [
    "df_test13['Area2'] = df_test13.apply(lambda row: get_country_name(row['lat'], row['lon']), axis=1)"
   ]
  },
  {
   "cell_type": "code",
   "execution_count": 66,
   "id": "52a0379e-ba48-4618-a6e8-ef5a51cbb59d",
   "metadata": {},
   "outputs": [
    {
     "name": "stderr",
     "output_type": "stream",
     "text": [
      "C:\\Users\\Ayman\\AppData\\Local\\Temp\\ipykernel_1432\\1290936595.py:1: SettingWithCopyWarning: \n",
      "A value is trying to be set on a copy of a slice from a DataFrame.\n",
      "Try using .loc[row_indexer,col_indexer] = value instead\n",
      "\n",
      "See the caveats in the documentation: https://pandas.pydata.org/pandas-docs/stable/user_guide/indexing.html#returning-a-view-versus-a-copy\n",
      "  df_test14['Area2'] = df_test14.apply(lambda row: get_country_name(row['lat'], row['lon']), axis=1)\n"
     ]
    }
   ],
   "source": [
    "df_test14['Area2'] = df_test14.apply(lambda row: get_country_name(row['lat'], row['lon']), axis=1)"
   ]
  },
  {
   "cell_type": "code",
   "execution_count": 67,
   "id": "3ae05e9b-e7d4-4a4f-a38b-f1d1cb8c6bb6",
   "metadata": {},
   "outputs": [
    {
     "name": "stderr",
     "output_type": "stream",
     "text": [
      "C:\\Users\\Ayman\\AppData\\Local\\Temp\\ipykernel_1432\\2699725915.py:1: SettingWithCopyWarning: \n",
      "A value is trying to be set on a copy of a slice from a DataFrame.\n",
      "Try using .loc[row_indexer,col_indexer] = value instead\n",
      "\n",
      "See the caveats in the documentation: https://pandas.pydata.org/pandas-docs/stable/user_guide/indexing.html#returning-a-view-versus-a-copy\n",
      "  df_test15['Area2'] = df_test15.apply(lambda row: get_country_name(row['lat'], row['lon']), axis=1)\n"
     ]
    }
   ],
   "source": [
    "df_test15['Area2'] = df_test15.apply(lambda row: get_country_name(row['lat'], row['lon']), axis=1)"
   ]
  },
  {
   "cell_type": "code",
   "execution_count": 68,
   "id": "280d7f07-62a7-4b04-b32c-b10c3ecb9ab5",
   "metadata": {},
   "outputs": [],
   "source": [
    "combined_df = pd.concat([df_test1,df_test2,df_test3,df_test4,df_test5,df_test6,df_test7,df_test8,df_test9,df_test10,df_test11,df_test12,df_test13,df_test14,df_test15], ignore_index=True)\n",
    "\n"
   ]
  },
  {
   "cell_type": "code",
   "execution_count": 69,
   "id": "48b72738-ea80-495a-b4d9-1f7c9fac1811",
   "metadata": {},
   "outputs": [],
   "source": [
    "combined_df.to_csv('combined.csv')"
   ]
  },
  {
   "cell_type": "code",
   "execution_count": 70,
   "id": "77eb54ce-37de-420f-b8fc-d64aa7b6395c",
   "metadata": {},
   "outputs": [
    {
     "data": {
      "text/html": [
       "<div>\n",
       "<style scoped>\n",
       "    .dataframe tbody tr th:only-of-type {\n",
       "        vertical-align: middle;\n",
       "    }\n",
       "\n",
       "    .dataframe tbody tr th {\n",
       "        vertical-align: top;\n",
       "    }\n",
       "\n",
       "    .dataframe thead th {\n",
       "        text-align: right;\n",
       "    }\n",
       "</style>\n",
       "<table border=\"1\" class=\"dataframe\">\n",
       "  <thead>\n",
       "    <tr style=\"text-align: right;\">\n",
       "      <th></th>\n",
       "      <th>year</th>\n",
       "      <th>lat</th>\n",
       "      <th>lon</th>\n",
       "      <th>precip</th>\n",
       "      <th>Area2</th>\n",
       "    </tr>\n",
       "  </thead>\n",
       "  <tbody>\n",
       "    <tr>\n",
       "      <th>0</th>\n",
       "      <td>1979</td>\n",
       "      <td>-88.75</td>\n",
       "      <td>1.25</td>\n",
       "      <td>0.358453</td>\n",
       "      <td>NaN</td>\n",
       "    </tr>\n",
       "    <tr>\n",
       "      <th>1</th>\n",
       "      <td>1979</td>\n",
       "      <td>-88.75</td>\n",
       "      <td>3.75</td>\n",
       "      <td>0.351281</td>\n",
       "      <td>NaN</td>\n",
       "    </tr>\n",
       "    <tr>\n",
       "      <th>2</th>\n",
       "      <td>1979</td>\n",
       "      <td>-88.75</td>\n",
       "      <td>6.25</td>\n",
       "      <td>0.343447</td>\n",
       "      <td>NaN</td>\n",
       "    </tr>\n",
       "    <tr>\n",
       "      <th>3</th>\n",
       "      <td>1979</td>\n",
       "      <td>-88.75</td>\n",
       "      <td>8.75</td>\n",
       "      <td>0.320538</td>\n",
       "      <td>NaN</td>\n",
       "    </tr>\n",
       "    <tr>\n",
       "      <th>4</th>\n",
       "      <td>1979</td>\n",
       "      <td>-88.75</td>\n",
       "      <td>11.25</td>\n",
       "      <td>0.325240</td>\n",
       "      <td>NaN</td>\n",
       "    </tr>\n",
       "    <tr>\n",
       "      <th>...</th>\n",
       "      <td>...</td>\n",
       "      <td>...</td>\n",
       "      <td>...</td>\n",
       "      <td>...</td>\n",
       "      <td>...</td>\n",
       "    </tr>\n",
       "    <tr>\n",
       "      <th>319995</th>\n",
       "      <td>2007</td>\n",
       "      <td>78.75</td>\n",
       "      <td>108.75</td>\n",
       "      <td>0.569347</td>\n",
       "      <td>Russian Federation</td>\n",
       "    </tr>\n",
       "    <tr>\n",
       "      <th>319996</th>\n",
       "      <td>2007</td>\n",
       "      <td>78.75</td>\n",
       "      <td>111.25</td>\n",
       "      <td>0.506467</td>\n",
       "      <td>Russian Federation</td>\n",
       "    </tr>\n",
       "    <tr>\n",
       "      <th>319997</th>\n",
       "      <td>2007</td>\n",
       "      <td>78.75</td>\n",
       "      <td>113.75</td>\n",
       "      <td>0.473540</td>\n",
       "      <td>Russian Federation</td>\n",
       "    </tr>\n",
       "    <tr>\n",
       "      <th>319998</th>\n",
       "      <td>2007</td>\n",
       "      <td>78.75</td>\n",
       "      <td>116.25</td>\n",
       "      <td>0.460689</td>\n",
       "      <td>Russian Federation</td>\n",
       "    </tr>\n",
       "    <tr>\n",
       "      <th>319999</th>\n",
       "      <td>2007</td>\n",
       "      <td>78.75</td>\n",
       "      <td>118.75</td>\n",
       "      <td>0.473610</td>\n",
       "      <td>Russian Federation</td>\n",
       "    </tr>\n",
       "  </tbody>\n",
       "</table>\n",
       "<p>320000 rows × 5 columns</p>\n",
       "</div>"
      ],
      "text/plain": [
       "        year    lat     lon    precip               Area2\n",
       "0       1979 -88.75    1.25  0.358453                 NaN\n",
       "1       1979 -88.75    3.75  0.351281                 NaN\n",
       "2       1979 -88.75    6.25  0.343447                 NaN\n",
       "3       1979 -88.75    8.75  0.320538                 NaN\n",
       "4       1979 -88.75   11.25  0.325240                 NaN\n",
       "...      ...    ...     ...       ...                 ...\n",
       "319995  2007  78.75  108.75  0.569347  Russian Federation\n",
       "319996  2007  78.75  111.25  0.506467  Russian Federation\n",
       "319997  2007  78.75  113.75  0.473540  Russian Federation\n",
       "319998  2007  78.75  116.25  0.460689  Russian Federation\n",
       "319999  2007  78.75  118.75  0.473610  Russian Federation\n",
       "\n",
       "[320000 rows x 5 columns]"
      ]
     },
     "execution_count": 70,
     "metadata": {},
     "output_type": "execute_result"
    }
   ],
   "source": [
    "combined_df"
   ]
  },
  {
   "cell_type": "code",
   "execution_count": 33,
   "id": "51c6b63d-b1fe-48b2-b35f-dc024fe51bab",
   "metadata": {},
   "outputs": [
    {
     "data": {
      "text/html": [
       "<div>\n",
       "<style scoped>\n",
       "    .dataframe tbody tr th:only-of-type {\n",
       "        vertical-align: middle;\n",
       "    }\n",
       "\n",
       "    .dataframe tbody tr th {\n",
       "        vertical-align: top;\n",
       "    }\n",
       "\n",
       "    .dataframe thead th {\n",
       "        text-align: right;\n",
       "    }\n",
       "</style>\n",
       "<table border=\"1\" class=\"dataframe\">\n",
       "  <thead>\n",
       "    <tr style=\"text-align: right;\">\n",
       "      <th></th>\n",
       "      <th>year</th>\n",
       "      <th>lat</th>\n",
       "      <th>lon</th>\n",
       "      <th>precip</th>\n",
       "      <th>Area2</th>\n",
       "    </tr>\n",
       "  </thead>\n",
       "  <tbody>\n",
       "    <tr>\n",
       "      <th>0</th>\n",
       "      <td>1979</td>\n",
       "      <td>-88.75</td>\n",
       "      <td>1.25</td>\n",
       "      <td>0.358453</td>\n",
       "      <td>NaN</td>\n",
       "    </tr>\n",
       "    <tr>\n",
       "      <th>1</th>\n",
       "      <td>1979</td>\n",
       "      <td>-88.75</td>\n",
       "      <td>3.75</td>\n",
       "      <td>0.351281</td>\n",
       "      <td>NaN</td>\n",
       "    </tr>\n",
       "    <tr>\n",
       "      <th>2</th>\n",
       "      <td>1979</td>\n",
       "      <td>-88.75</td>\n",
       "      <td>6.25</td>\n",
       "      <td>0.343447</td>\n",
       "      <td>NaN</td>\n",
       "    </tr>\n",
       "    <tr>\n",
       "      <th>3</th>\n",
       "      <td>1979</td>\n",
       "      <td>-88.75</td>\n",
       "      <td>8.75</td>\n",
       "      <td>0.320538</td>\n",
       "      <td>NaN</td>\n",
       "    </tr>\n",
       "    <tr>\n",
       "      <th>4</th>\n",
       "      <td>1979</td>\n",
       "      <td>-88.75</td>\n",
       "      <td>11.25</td>\n",
       "      <td>0.325240</td>\n",
       "      <td>NaN</td>\n",
       "    </tr>\n",
       "    <tr>\n",
       "      <th>...</th>\n",
       "      <td>...</td>\n",
       "      <td>...</td>\n",
       "      <td>...</td>\n",
       "      <td>...</td>\n",
       "      <td>...</td>\n",
       "    </tr>\n",
       "    <tr>\n",
       "      <th>19995</th>\n",
       "      <td>1980</td>\n",
       "      <td>76.25</td>\n",
       "      <td>308.75</td>\n",
       "      <td>0.513134</td>\n",
       "      <td>NaN</td>\n",
       "    </tr>\n",
       "    <tr>\n",
       "      <th>19996</th>\n",
       "      <td>1980</td>\n",
       "      <td>76.25</td>\n",
       "      <td>311.25</td>\n",
       "      <td>0.426801</td>\n",
       "      <td>NaN</td>\n",
       "    </tr>\n",
       "    <tr>\n",
       "      <th>19997</th>\n",
       "      <td>1980</td>\n",
       "      <td>76.25</td>\n",
       "      <td>313.75</td>\n",
       "      <td>0.417860</td>\n",
       "      <td>NaN</td>\n",
       "    </tr>\n",
       "    <tr>\n",
       "      <th>19998</th>\n",
       "      <td>1980</td>\n",
       "      <td>76.25</td>\n",
       "      <td>316.25</td>\n",
       "      <td>0.402023</td>\n",
       "      <td>NaN</td>\n",
       "    </tr>\n",
       "    <tr>\n",
       "      <th>19999</th>\n",
       "      <td>1980</td>\n",
       "      <td>76.25</td>\n",
       "      <td>318.75</td>\n",
       "      <td>0.227601</td>\n",
       "      <td>NaN</td>\n",
       "    </tr>\n",
       "  </tbody>\n",
       "</table>\n",
       "<p>20000 rows × 5 columns</p>\n",
       "</div>"
      ],
      "text/plain": [
       "       year    lat     lon    precip Area2\n",
       "0      1979 -88.75    1.25  0.358453   NaN\n",
       "1      1979 -88.75    3.75  0.351281   NaN\n",
       "2      1979 -88.75    6.25  0.343447   NaN\n",
       "3      1979 -88.75    8.75  0.320538   NaN\n",
       "4      1979 -88.75   11.25  0.325240   NaN\n",
       "...     ...    ...     ...       ...   ...\n",
       "19995  1980  76.25  308.75  0.513134   NaN\n",
       "19996  1980  76.25  311.25  0.426801   NaN\n",
       "19997  1980  76.25  313.75  0.417860   NaN\n",
       "19998  1980  76.25  316.25  0.402023   NaN\n",
       "19999  1980  76.25  318.75  0.227601   NaN\n",
       "\n",
       "[20000 rows x 5 columns]"
      ]
     },
     "execution_count": 33,
     "metadata": {},
     "output_type": "execute_result"
    }
   ],
   "source": [
    "df_test1"
   ]
  },
  {
   "cell_type": "code",
   "execution_count": null,
   "id": "1d77171c-0461-4be2-8225-91543dd38901",
   "metadata": {},
   "outputs": [],
   "source": [
    "l = [val for val in df_test['Area'] if val in df['Area']]"
   ]
  },
  {
   "cell_type": "code",
   "execution_count": null,
   "id": "00d0e995-96bc-42e9-96d9-dbea1e9af8d7",
   "metadata": {},
   "outputs": [],
   "source": [
    "l"
   ]
  },
  {
   "cell_type": "code",
   "execution_count": null,
   "id": "ba1635ca-4525-40b8-8e65-6f5b4072ae7b",
   "metadata": {},
   "outputs": [],
   "source": [
    "df_test_aligned, df_aligned = df_test.align(df, join='inner', axis=0)\n",
    "\n",
    "l2 = df_test_aligned['Area'] == df_aligned['Area']\n",
    "print(set(l2))\n"
   ]
  },
  {
   "cell_type": "code",
   "execution_count": null,
   "id": "c6398a94-542f-496e-9393-9041399b7abd",
   "metadata": {},
   "outputs": [],
   "source": []
  }
 ],
 "metadata": {
  "kernelspec": {
   "display_name": "Python 3 (ipykernel)",
   "language": "python",
   "name": "python3"
  },
  "language_info": {
   "codemirror_mode": {
    "name": "ipython",
    "version": 3
   },
   "file_extension": ".py",
   "mimetype": "text/x-python",
   "name": "python",
   "nbconvert_exporter": "python",
   "pygments_lexer": "ipython3",
   "version": "3.9.19"
  }
 },
 "nbformat": 4,
 "nbformat_minor": 5
}
