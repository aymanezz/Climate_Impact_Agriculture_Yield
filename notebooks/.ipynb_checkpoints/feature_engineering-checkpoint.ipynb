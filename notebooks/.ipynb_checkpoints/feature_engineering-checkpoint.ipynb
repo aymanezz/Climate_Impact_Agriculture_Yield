{
 "cells": [
  {
   "cell_type": "code",
   "execution_count": 1,
   "id": "M_rBiGO1ksOH",
   "metadata": {
    "colab": {
     "base_uri": "https://localhost:8080/"
    },
    "id": "M_rBiGO1ksOH",
    "outputId": "b98c6028-043f-4555-a207-76271240ba35"
   },
   "outputs": [
    {
     "name": "stdout",
     "output_type": "stream",
     "text": [
      "Cloning into 'Climate_Impact_Agriculture_Yield'...\n",
      "remote: Enumerating objects: 73, done.\u001b[K\n",
      "remote: Counting objects: 100% (73/73), done.\u001b[K\n",
      "remote: Compressing objects: 100% (62/62), done.\u001b[K\n",
      "remote: Total 73 (delta 25), reused 26 (delta 8), pack-reused 0\u001b[K\n",
      "Receiving objects: 100% (73/73), 26.11 MiB | 5.51 MiB/s, done.\n",
      "Resolving deltas: 100% (25/25), done.\n",
      "Updating files: 100% (25/25), done.\n"
     ]
    }
   ],
   "source": [
    "!git clone https://github.com/aymanezz/Climate_Impact_Agriculture_Yield.git\n"
   ]
  },
  {
   "cell_type": "code",
   "execution_count": 5,
   "id": "1246f303-c6aa-4fd0-b445-89b4b76b06c5",
   "metadata": {
    "id": "1246f303-c6aa-4fd0-b445-89b4b76b06c5"
   },
   "outputs": [],
   "source": [
    "# Importing libraries\n",
    "import pandas as pd\n",
    "\n"
   ]
  },
  {
   "cell_type": "code",
   "execution_count": 6,
   "id": "a54fca59-f600-4fcd-a043-deb4e65f2351",
   "metadata": {
    "id": "a54fca59-f600-4fcd-a043-deb4e65f2351"
   },
   "outputs": [],
   "source": [
    "# Load the cleaned data\n",
    "production = pd.read_csv('data/final/cleaned_production.csv')\n",
    "temp_change = pd.read_csv('data/final/cleaned_temperature_change.csv')\n",
    "land_cover = pd.read_csv('data/final/cleaned_land_cover.csv')\n",
    "sea_level = pd.read_csv('data/final/cleaned_sea_level.csv')\n",
    "atmospheric = pd.read_csv('data/final/cleaned_atmospheric.csv')"
   ]
  },
  {
   "cell_type": "code",
   "execution_count": 7,
   "id": "14179b0b-f7f0-4249-8e83-c1c9f7241c9e",
   "metadata": {
    "id": "14179b0b-f7f0-4249-8e83-c1c9f7241c9e"
   },
   "outputs": [],
   "source": [
    "# Merge temperature change data\n",
    "production = pd.merge(production, temp_change, how='left', on=['Area', 'Year'])\n",
    "\n",
    "# Merge land cover data\n",
    "production = pd.merge(production, land_cover, how='left', on=['Area', 'Year'])\n",
    "\n",
    "# Merge atmospheric data\n",
    "production = pd.merge(production, atmospheric, how='left', left_on='Year', right_on='year')\n",
    "\n",
    "# Drop the redundant 'year' column\n",
    "production.drop(columns=['year'], inplace=True)"
   ]
  },
  {
   "cell_type": "code",
   "execution_count": 8,
   "id": "933eab64-c339-4ae5-92b3-dfc331597af8",
   "metadata": {
    "colab": {
     "base_uri": "https://localhost:8080/",
     "height": 105
    },
    "id": "933eab64-c339-4ae5-92b3-dfc331597af8",
    "outputId": "b170ad13-0405-4fd1-b4ee-e3b18af7c907"
   },
   "outputs": [
    {
     "data": {
      "application/vnd.google.colaboratory.intrinsic+json": {
       "type": "string"
      },
      "text/plain": [
       "\"\\n# Load the data\\nproduction1 = load_data('D:\\\\git\\\\Climate_Impact_Agriculture_Yield\\\\data\\\\modified\\\\clean_productions1.csv')\\n\\nproduction2 = load_data('D:\\\\git\\\\Climate_Impact_Agriculture_Yield\\\\data\\\\modified\\\\clean_productions2.csv')\\nproduction3 = load_data('D:\\\\git\\\\Climate_Impact_Agriculture_Yield\\\\data\\\\modified\\\\clean_productions3.csv')\\nproduction = pd.concat([production1, production2, production3], ignore_index=True)\\ntemp_change = load_data('D:\\\\git\\\\Climate_Impact_Agriculture_Yield\\\\data\\\\modified\\\\temperature_change.csv')\\nland_cover = load_data('D:\\\\git\\\\Climate_Impact_Agriculture_Yield\\\\data\\\\modified\\\\land_cover.csv')\\nsea_level = load_data('D:\\\\git\\\\Climate_Impact_Agriculture_Yield\\\\data\\\\modified\\\\sea_level.csv')\\natmospheric = load_data('D:\\\\git\\\\Climate_Impact_Agriculture_Yield\\\\data\\\\modified\\\\Atmospheric.csv')\\n\""
      ]
     },
     "execution_count": 8,
     "metadata": {},
     "output_type": "execute_result"
    }
   ],
   "source": [
    "# Creating lag features\n",
    "for lag in [1, 3, 6]:\n",
    "    production[f'Temperature Change_lag_{lag}'] = production.groupby('Area')['Temperature Change'].shift(lag)\n",
    "    production[f'CO2concentration_lag_{lag}'] = production['CO2concentration'].shift(lag)\n",
    "\n",
    "# Creating interaction features\n",
    "production['Temperature Change_x_Land Cover'] = production['Temperature Change'] * production['Land Cover']\n",
    "production['Temperature Change_x_CO2concentration'] = production['Temperature Change'] * production['CO2concentration']\n",
    "production['Land Cover_x_CO2concentration'] = production['Land Cover'] * production['CO2concentration']\n"
   ]
  },
  {
   "cell_type": "code",
   "execution_count": 9,
   "id": "9f19267b-9cfc-4fb2-826d-53330530bf57",
   "metadata": {
    "id": "9f19267b-9cfc-4fb2-826d-53330530bf57"
   },
   "outputs": [],
   "source": [
    "# Save the feature-engineered data\n",
    "production.to_csv('data/final/feature_engineered_production.csv', index=False)\n"
   ]
  },
  {
   "cell_type": "code",
   "execution_count": null,
   "id": "10599fae-a118-4e97-bc53-ffe5b4730893",
   "metadata": {},
   "outputs": [],
   "source": [
    "\n",
    "# Define the feature columns and target column\n",
    "feature_cols = ['Temperature Change', 'CO2concentration', 'Land Cover',\n",
    "                'Temperature Change_lag_1', 'Temperature Change_lag_3', 'Temperature Change_lag_6',\n",
    "                'CO2concentration_lag_1', 'CO2concentration_lag_3', 'CO2concentration_lag_6',\n",
    "                'Temperature Change_x_Land Cover', 'Temperature Change_x_CO2concentration',\n",
    "                'Land Cover_x_CO2concentration']\n",
    "target_col = 'production'"
   ]
  },
  {
   "cell_type": "code",
   "execution_count": null,
   "id": "ee8a5ac8-2e2b-480e-beab-b696d094dc75",
   "metadata": {},
   "outputs": [],
   "source": [
    "\n",
    "# Split the data into training and testing sets\n",
    "X = production[feature_cols]\n",
    "y = production[target_col]\n",
    "X_train, X_test, y_train, y_test = train_test_split(X, y, test_size=0.2, random_state=42)\n",
    "\n",
    "# Initialize the models\n",
    "models = {\n",
    "    'Linear Regression': LinearRegression(),\n",
    "    'Random Forest': RandomForestRegressor(random_state=42),\n",
    "    'Gradient Boosting': GradientBoostingRegressor(random_state=42)\n",
    "}\n",
    "\n",
    "# Train the models and print MSE and score for each\n",
    "for name, model in models.items():\n",
    "    model.fit(X_train, y_train)\n",
    "    y_pred = model.predict(X_test)\n",
    "    mse = mean_squared_error(y_test, y_pred)\n",
    "    score = model.score(X_test, y_test)\n",
    "    print(f'{name}:\\n  MSE: {mse}\\n  Score: {score}\\n')"
   ]
  }
 ],
 "metadata": {
  "colab": {
   "provenance": []
  },
  "kernelspec": {
   "display_name": "Python 3 (ipykernel)",
   "language": "python",
   "name": "python3"
  },
  "language_info": {
   "codemirror_mode": {
    "name": "ipython",
    "version": 3
   },
   "file_extension": ".py",
   "mimetype": "text/x-python",
   "name": "python",
   "nbconvert_exporter": "python",
   "pygments_lexer": "ipython3",
   "version": "3.9.19"
  }
 },
 "nbformat": 4,
 "nbformat_minor": 5
}
