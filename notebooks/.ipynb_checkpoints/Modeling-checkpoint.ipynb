{
 "cells": [
  {
   "cell_type": "code",
   "execution_count": null,
   "id": "93db6c5a-90e8-4ae2-8fb9-6a76b6939b07",
   "metadata": {},
   "outputs": [],
   "source": [
    "# Import necessary libraries\n",
    "import pandas as pd\n",
    "from sklearn.model_selection import train_test_split\n",
    "from sklearn.preprocessing import StandardScaler\n",
    "from sklearn.linear_model import LinearRegression\n",
    "from sklearn.ensemble import RandomForestRegressor, GradientBoostingRegressor\n",
    "from sklearn.metrics import mean_squared_error, mean_absolute_error, r2_score"
   ]
  },
  {
   "cell_type": "code",
   "execution_count": null,
   "id": "aa6bf186-0636-4323-abab-a4d693c5349c",
   "metadata": {},
   "outputs": [],
   "source": [
    "# Load the production data\n",
    "production = pd.read_csv('/content/Climate_Impact_Agriculture_Yield/data/modified/production_for_modeling.csv')\n"
   ]
  },
  {
   "cell_type": "code",
   "execution_count": null,
   "id": "69c70f92-4d63-45bb-bca7-b40089249e5e",
   "metadata": {},
   "outputs": [],
   "source": [
    "# Prepare the data for modeling\n",
    "# Define target variable and features\n",
    "target = 'production'\n",
    "features = [col for col in production.columns if col not in ['Area', 'Item', 'Year', target]]\n"
   ]
  },
  {
   "cell_type": "code",
   "execution_count": null,
   "id": "419794d6-b549-48db-9937-65e0784d129f",
   "metadata": {},
   "outputs": [],
   "source": [
    "X = production[features]\n",
    "y = production[target]\n"
   ]
  },
  {
   "cell_type": "code",
   "execution_count": null,
   "id": "0a243ad0-16f7-440f-b74f-60e51b483363",
   "metadata": {},
   "outputs": [],
   "source": [
    "# Split data into training and testing sets\n",
    "X_train, X_test, y_train, y_test = train_test_split(X, y, test_size=0.2, random_state=42)\n"
   ]
  },
  {
   "cell_type": "code",
   "execution_count": null,
   "id": "61e37ee2-9b01-46e6-9811-b372de3e2348",
   "metadata": {},
   "outputs": [],
   "source": [
    "# Standardize the features\n",
    "scaler = StandardScaler()\n",
    "X_train_scaled = scaler.fit_transform(X_train)\n",
    "X_test_scaled = scaler.transform(X_test)\n"
   ]
  },
  {
   "cell_type": "code",
   "execution_count": null,
   "id": "81f875f3-0571-4dba-98e2-c4d36628762e",
   "metadata": {},
   "outputs": [],
   "source": [
    "print(\"Data preparation complete.\")\n"
   ]
  },
  {
   "cell_type": "code",
   "execution_count": null,
   "id": "cb95db8f-738f-46c6-b28b-ed44040e32ee",
   "metadata": {},
   "outputs": [],
   "source": [
    "# Function to evaluate models\n",
    "def evaluate_model(y_true, y_pred):\n",
    "    mse = mean_squared_error(y_true, y_pred)\n",
    "    mae = mean_absolute_error(y_true, y_pred)\n",
    "    r2 = r2_score(y_true, y_pred)\n",
    "    return mse, mae, r2\n"
   ]
  },
  {
   "cell_type": "code",
   "execution_count": null,
   "id": "f0c34c1f-73fe-49a4-a4e5-a0d8c36f1d68",
   "metadata": {},
   "outputs": [],
   "source": [
    "# Linear Regression\n",
    "lr_model = LinearRegression()\n",
    "lr_model.fit(X_train_scaled, y_train)\n",
    "lr_predictions = lr_model.predict(X_test_scaled)\n",
    "lr_mse, lr_mae, lr_r2 = evaluate_model(y_test, lr_predictions)\n"
   ]
  },
  {
   "cell_type": "code",
   "execution_count": null,
   "id": "66ab28e1-1d70-43cd-8687-b174a590d5ab",
   "metadata": {},
   "outputs": [],
   "source": [
    "print(f\"Linear Regression - MSE: {lr_mse}, MAE: {lr_mae}, R2: {lr_r2}\")\n"
   ]
  },
  {
   "cell_type": "code",
   "execution_count": null,
   "id": "87110d60-7e9d-4cf4-9846-b850a1a18c08",
   "metadata": {},
   "outputs": [],
   "source": [
    "# Random Forest Regressor\n",
    "rf_model = RandomForestRegressor(random_state=42)\n",
    "rf_model.fit(X_train_scaled, y_train)\n",
    "rf_predictions = rf_model.predict(X_test_scaled)\n",
    "rf_mse, rf_mae, rf_r2 = evaluate_model(y_test, rf_predictions)\n"
   ]
  },
  {
   "cell_type": "code",
   "execution_count": null,
   "id": "59826ca6-41a8-47f1-a6bf-aebda989db66",
   "metadata": {},
   "outputs": [],
   "source": [
    "print(f\"Random Forest Regressor - MSE: {rf_mse}, MAE: {rf_mae}, R2: {rf_r2}\")\n"
   ]
  },
  {
   "cell_type": "code",
   "execution_count": null,
   "id": "8aad3528-f825-4950-b439-9aa3e4394ea7",
   "metadata": {},
   "outputs": [],
   "source": [
    "# Gradient Boosting Regressor\n",
    "gb_model = GradientBoostingRegressor(random_state=42)\n",
    "gb_model.fit(X_train_scaled, y_train)\n",
    "gb_predictions = gb_model.predict(X_test_scaled)\n",
    "gb_mse, gb_mae, gb_r2 = evaluate_model(y_test, gb_predictions)\n"
   ]
  },
  {
   "cell_type": "code",
   "execution_count": null,
   "id": "3167d672-3bb3-4474-8808-462cb5cdb5ac",
   "metadata": {},
   "outputs": [],
   "source": [
    "print(f\"Gradient Boosting Regressor - MSE: {gb_mse}, MAE: {gb_mae}, R2: {gb_r2}\")"
   ]
  }
 ],
 "metadata": {
  "kernelspec": {
   "display_name": "Python 3 (ipykernel)",
   "language": "python",
   "name": "python3"
  },
  "language_info": {
   "codemirror_mode": {
    "name": "ipython",
    "version": 3
   },
   "file_extension": ".py",
   "mimetype": "text/x-python",
   "name": "python",
   "nbconvert_exporter": "python",
   "pygments_lexer": "ipython3",
   "version": "3.9.19"
  }
 },
 "nbformat": 4,
 "nbformat_minor": 5
}
