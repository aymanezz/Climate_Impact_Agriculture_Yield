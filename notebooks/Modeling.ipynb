{
 "cells": [
  {
   "cell_type": "code",
   "execution_count": null,
   "id": "93db6c5a-90e8-4ae2-8fb9-6a76b6939b07",
   "metadata": {},
   "outputs": [],
   "source": [
    "# Importing libraries\n",
    "import pandas as pd\n",
    "from sklearn.model_selection import train_test_split\n",
    "from sklearn.linear_model import LinearRegression\n",
    "from sklearn.ensemble import RandomForestRegressor, GradientBoostingRegressor\n",
    "from sklearn.metrics import mean_squared_error, r2_score"
   ]
  },
  {
   "cell_type": "code",
   "execution_count": null,
   "id": "aa6bf186-0636-4323-abab-a4d693c5349c",
   "metadata": {},
   "outputs": [],
   "source": [
    "production = pd.read_csv('data/final/cleaned_production.csv')"
   ]
  },
  {
   "cell_type": "code",
   "execution_count": null,
   "id": "69c70f92-4d63-45bb-bca7-b40089249e5e",
   "metadata": {},
   "outputs": [],
   "source": [
    "features = ['Temperature Change', 'Land Cover', 'CO2concentration', \n",
    "            'Temperature Change_lag_1', 'Temperature Change_lag_3', \n",
    "            'Temperature Change_lag_6', 'CO2concentration_lag_1', \n",
    "            'CO2concentration_lag_3', 'CO2concentration_lag_6', \n",
    "            'Temperature Change_x_Land Cover', 'Temperature Change_x_CO2concentration', \n",
    "            'Land Cover_x_CO2concentration']"
   ]
  },
  {
   "cell_type": "code",
   "execution_count": null,
   "id": "419794d6-b549-48db-9937-65e0784d129f",
   "metadata": {},
   "outputs": [],
   "source": [
    "target = 'production'"
   ]
  },
  {
   "cell_type": "code",
   "execution_count": null,
   "id": "0a243ad0-16f7-440f-b74f-60e51b483363",
   "metadata": {},
   "outputs": [],
   "source": [
    "# Splitting the data\n",
    "X = production[features]\n",
    "y = production[target]\n",
    "X_train, X_test, y_train, y_test = train_test_split(X, y, test_size=0.2, random_state=42)\n"
   ]
  },
  {
   "cell_type": "code",
   "execution_count": null,
   "id": "61e37ee2-9b01-46e6-9811-b372de3e2348",
   "metadata": {},
   "outputs": [],
   "source": [
    "# Training models\n",
    "# Linear Regression\n",
    "lr = LinearRegression()\n",
    "lr.fit(X_train, y_train)\n",
    "lr_predictions = lr.predict(X_test)"
   ]
  },
  {
   "cell_type": "code",
   "execution_count": null,
   "id": "81f875f3-0571-4dba-98e2-c4d36628762e",
   "metadata": {},
   "outputs": [],
   "source": [
    "# Random Forest Regressor\n",
    "rf = RandomForestRegressor()\n",
    "rf.fit(X_train, y_train)\n",
    "rf_predictions = rf.predict(X_test)"
   ]
  },
  {
   "cell_type": "code",
   "execution_count": null,
   "id": "cb95db8f-738f-46c6-b28b-ed44040e32ee",
   "metadata": {},
   "outputs": [],
   "source": [
    "# Gradient Boosting Regressor\n",
    "gb = GradientBoostingRegressor()\n",
    "gb.fit(X_train, y_train)\n",
    "gb_predictions = gb.predict(X_test)"
   ]
  },
  {
   "cell_type": "code",
   "execution_count": null,
   "id": "f0c34c1f-73fe-49a4-a4e5-a0d8c36f1d68",
   "metadata": {},
   "outputs": [],
   "source": [
    "def evaluate_model(model_name, y_test, predictions):\n",
    "    mse = mean_squared_error(y_test, predictions)\n",
    "    r2 = r2_score(y_test, predictions)\n",
    "    print(f\"{model_name} - MSE: {mse}, R2: {r2}\")"
   ]
  },
  {
   "cell_type": "code",
   "execution_count": null,
   "id": "66ab28e1-1d70-43cd-8687-b174a590d5ab",
   "metadata": {},
   "outputs": [],
   "source": [
    "evaluate_model('Linear Regression', y_test, lr_predictions)\n",
    "evaluate_model('Random Forest', y_test, rf_predictions)\n",
    "evaluate_model('Gradient Boosting', y_test, gb_predictions)"
   ]
  }
 ],
 "metadata": {
  "kernelspec": {
   "display_name": "Python 3 (ipykernel)",
   "language": "python",
   "name": "python3"
  },
  "language_info": {
   "codemirror_mode": {
    "name": "ipython",
    "version": 3
   },
   "file_extension": ".py",
   "mimetype": "text/x-python",
   "name": "python",
   "nbconvert_exporter": "python",
   "pygments_lexer": "ipython3",
   "version": "3.9.19"
  }
 },
 "nbformat": 4,
 "nbformat_minor": 5
}
