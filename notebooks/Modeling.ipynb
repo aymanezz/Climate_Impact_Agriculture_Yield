{
  "cells": [
    {
      "cell_type": "code",
      "source": [
        "!git clone https://github.com/aymanezz/Climate_Impact_Agriculture_Yield.git\n"
      ],
      "metadata": {
        "colab": {
          "base_uri": "https://localhost:8080/"
        },
        "id": "pg-jMqW42GCc",
        "outputId": "c5dded6d-3b22-4e7b-a30c-3dc580b5dff2"
      },
      "id": "pg-jMqW42GCc",
      "execution_count": 1,
      "outputs": [
        {
          "output_type": "stream",
          "name": "stdout",
          "text": [
            "Cloning into 'Climate_Impact_Agriculture_Yield'...\n",
            "remote: Enumerating objects: 238, done.\u001b[K\n",
            "remote: Counting objects: 100% (107/107), done.\u001b[K\n",
            "remote: Compressing objects: 100% (84/84), done.\u001b[K\n",
            "remote: Total 238 (delta 51), reused 60 (delta 21), pack-reused 131\u001b[K\n",
            "Receiving objects: 100% (238/238), 64.87 MiB | 17.01 MiB/s, done.\n",
            "Resolving deltas: 100% (107/107), done.\n",
            "Updating files: 100% (46/46), done.\n"
          ]
        }
      ]
    },
    {
      "cell_type": "code",
      "source": [
        "import pandas as pd\n",
        "from sklearn.model_selection import train_test_split, cross_val_score\n",
        "from sklearn.linear_model import LinearRegression\n",
        "from sklearn.ensemble import RandomForestRegressor\n",
        "from sklearn.metrics import mean_squared_error"
      ],
      "metadata": {
        "id": "iNlHuzCe1jyV"
      },
      "id": "iNlHuzCe1jyV",
      "execution_count": 4,
      "outputs": []
    },
    {
      "cell_type": "code",
      "execution_count": 5,
      "id": "93db6c5a-90e8-4ae2-8fb9-6a76b6939b07",
      "metadata": {
        "id": "93db6c5a-90e8-4ae2-8fb9-6a76b6939b07"
      },
      "outputs": [],
      "source": [
        "process_data_df = pd.read_csv('/content/Climate_Impact_Agriculture_Yield/data/final/for_model.csv')\n"
      ]
    },
    {
      "cell_type": "code",
      "source": [
        "# Extract the target variable\n",
        "y = process_data_df['Production']\n",
        "\n",
        "# Extract the features (all columns except 'Production')\n",
        "X = process_data_df.drop(columns=['Production'])"
      ],
      "metadata": {
        "id": "Fm_nD3Sj2Z5N"
      },
      "id": "Fm_nD3Sj2Z5N",
      "execution_count": 6,
      "outputs": []
    },
    {
      "cell_type": "code",
      "execution_count": 7,
      "id": "aa6bf186-0636-4323-abab-a4d693c5349c",
      "metadata": {
        "colab": {
          "base_uri": "https://localhost:8080/"
        },
        "id": "aa6bf186-0636-4323-abab-a4d693c5349c",
        "outputId": "9dd6548b-2305-4331-8169-33542473a755"
      },
      "outputs": [
        {
          "output_type": "stream",
          "name": "stdout",
          "text": [
            "MSE: 2.479099107449508\n",
            "Score: 0.8006240504817209\n",
            "\n"
          ]
        }
      ],
      "source": [
        "# Split the data into training and testing sets\n",
        "\n",
        "X_train, X_test, y_train, y_test = train_test_split(X, y, test_size=0.2, random_state=42)\n",
        "\n",
        "# Initialize the model\n",
        "model = RandomForestRegressor(random_state=42)\n",
        "model.fit(X_train, y_train)\n",
        "y_pred = model.predict(X_test)\n",
        "mse = mean_squared_error(y_test, y_pred)\n",
        "score = model.score(X_test, y_test)\n",
        "print(f'MSE: {mse}\\nScore: {score}\\n')\n"
      ]
    },
    {
      "cell_type": "code",
      "source": [],
      "metadata": {
        "id": "Z1520EnX2fAl"
      },
      "id": "Z1520EnX2fAl",
      "execution_count": null,
      "outputs": []
    }
  ],
  "metadata": {
    "kernelspec": {
      "display_name": "Python 3 (ipykernel)",
      "language": "python",
      "name": "python3"
    },
    "language_info": {
      "codemirror_mode": {
        "name": "ipython",
        "version": 3
      },
      "file_extension": ".py",
      "mimetype": "text/x-python",
      "name": "python",
      "nbconvert_exporter": "python",
      "pygments_lexer": "ipython3",
      "version": "3.9.19"
    },
    "colab": {
      "provenance": []
    }
  },
  "nbformat": 4,
  "nbformat_minor": 5
}